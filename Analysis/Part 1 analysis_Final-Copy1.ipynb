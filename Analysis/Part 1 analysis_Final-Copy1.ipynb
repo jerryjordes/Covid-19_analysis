{
 "cells": [
  {
   "cell_type": "markdown",
   "metadata": {},
   "source": [
    "# General analysis of Covid-19 in Hong Kong -- Part 1 analysis"
   ]
  },
  {
   "cell_type": "markdown",
   "metadata": {},
   "source": [
    "In the beginning, let's import necessary library"
   ]
  },
  {
   "cell_type": "code",
   "execution_count": 1,
   "metadata": {},
   "outputs": [],
   "source": [
    "#Import library\n",
    "import pandas as pd\n",
    "import numpy as np\n",
    "import io\n",
    "import requests\n",
    "import matplotlib.pyplot as plt\n"
   ]
  },
  {
   "cell_type": "markdown",
   "metadata": {},
   "source": [
    "Then we start from import the first dataset, which shows the general details of propable/confirmed cases of COVID-19 in Hong Kong."
   ]
  },
  {
   "cell_type": "code",
   "execution_count": 2,
   "metadata": {},
   "outputs": [
    {
     "data": {
      "text/html": [
       "<div>\n",
       "<style scoped>\n",
       "    .dataframe tbody tr th:only-of-type {\n",
       "        vertical-align: middle;\n",
       "    }\n",
       "\n",
       "    .dataframe tbody tr th {\n",
       "        vertical-align: top;\n",
       "    }\n",
       "\n",
       "    .dataframe thead th {\n",
       "        text-align: right;\n",
       "    }\n",
       "</style>\n",
       "<table border=\"1\" class=\"dataframe\">\n",
       "  <thead>\n",
       "    <tr style=\"text-align: right;\">\n",
       "      <th></th>\n",
       "      <th>Case no.</th>\n",
       "      <th>Report date</th>\n",
       "      <th>Date of onset</th>\n",
       "      <th>Gender</th>\n",
       "      <th>Age</th>\n",
       "      <th>Name of hospital admitted</th>\n",
       "      <th>Hospitalised/Discharged/Deceased</th>\n",
       "      <th>HK/Non-HK resident</th>\n",
       "      <th>Case classification*</th>\n",
       "      <th>Confirmed/probable</th>\n",
       "    </tr>\n",
       "  </thead>\n",
       "  <tbody>\n",
       "    <tr>\n",
       "      <th>0</th>\n",
       "      <td>1</td>\n",
       "      <td>23/01/2020</td>\n",
       "      <td>21/01/2020</td>\n",
       "      <td>M</td>\n",
       "      <td>39</td>\n",
       "      <td>NaN</td>\n",
       "      <td>Discharged</td>\n",
       "      <td>Non-HK resident</td>\n",
       "      <td>Imported case</td>\n",
       "      <td>Confirmed</td>\n",
       "    </tr>\n",
       "    <tr>\n",
       "      <th>1</th>\n",
       "      <td>2</td>\n",
       "      <td>23/01/2020</td>\n",
       "      <td>18/01/2020</td>\n",
       "      <td>M</td>\n",
       "      <td>56</td>\n",
       "      <td>NaN</td>\n",
       "      <td>Discharged</td>\n",
       "      <td>HK resident</td>\n",
       "      <td>Imported case</td>\n",
       "      <td>Confirmed</td>\n",
       "    </tr>\n",
       "    <tr>\n",
       "      <th>2</th>\n",
       "      <td>3</td>\n",
       "      <td>24/01/2020</td>\n",
       "      <td>20/01/2020</td>\n",
       "      <td>F</td>\n",
       "      <td>62</td>\n",
       "      <td>NaN</td>\n",
       "      <td>Discharged</td>\n",
       "      <td>Non-HK resident</td>\n",
       "      <td>Imported case</td>\n",
       "      <td>Confirmed</td>\n",
       "    </tr>\n",
       "    <tr>\n",
       "      <th>3</th>\n",
       "      <td>4</td>\n",
       "      <td>24/01/2020</td>\n",
       "      <td>23/01/2020</td>\n",
       "      <td>F</td>\n",
       "      <td>62</td>\n",
       "      <td>NaN</td>\n",
       "      <td>Discharged</td>\n",
       "      <td>Non-HK resident</td>\n",
       "      <td>Imported case</td>\n",
       "      <td>Confirmed</td>\n",
       "    </tr>\n",
       "    <tr>\n",
       "      <th>4</th>\n",
       "      <td>5</td>\n",
       "      <td>24/01/2020</td>\n",
       "      <td>23/01/2020</td>\n",
       "      <td>M</td>\n",
       "      <td>63</td>\n",
       "      <td>NaN</td>\n",
       "      <td>Discharged</td>\n",
       "      <td>Non-HK resident</td>\n",
       "      <td>Imported case</td>\n",
       "      <td>Confirmed</td>\n",
       "    </tr>\n",
       "    <tr>\n",
       "      <th>...</th>\n",
       "      <td>...</td>\n",
       "      <td>...</td>\n",
       "      <td>...</td>\n",
       "      <td>...</td>\n",
       "      <td>...</td>\n",
       "      <td>...</td>\n",
       "      <td>...</td>\n",
       "      <td>...</td>\n",
       "      <td>...</td>\n",
       "      <td>...</td>\n",
       "    </tr>\n",
       "    <tr>\n",
       "      <th>4846</th>\n",
       "      <td>4847</td>\n",
       "      <td>04/09/2020</td>\n",
       "      <td>01/09/2020</td>\n",
       "      <td>F</td>\n",
       "      <td>46</td>\n",
       "      <td>NaN</td>\n",
       "      <td>To be provided</td>\n",
       "      <td>HK Resident</td>\n",
       "      <td>Imported case</td>\n",
       "      <td>Confirmed</td>\n",
       "    </tr>\n",
       "    <tr>\n",
       "      <th>4847</th>\n",
       "      <td>4848</td>\n",
       "      <td>04/09/2020</td>\n",
       "      <td>03/09/2020</td>\n",
       "      <td>F</td>\n",
       "      <td>18</td>\n",
       "      <td>NaN</td>\n",
       "      <td>To be provided</td>\n",
       "      <td>HK Resident</td>\n",
       "      <td>Imported case</td>\n",
       "      <td>Confirmed</td>\n",
       "    </tr>\n",
       "    <tr>\n",
       "      <th>4848</th>\n",
       "      <td>4849</td>\n",
       "      <td>04/09/2020</td>\n",
       "      <td>Asymptomatic</td>\n",
       "      <td>F</td>\n",
       "      <td>39</td>\n",
       "      <td>NaN</td>\n",
       "      <td>To be provided</td>\n",
       "      <td>HK Resident</td>\n",
       "      <td>Imported case</td>\n",
       "      <td>Confirmed</td>\n",
       "    </tr>\n",
       "    <tr>\n",
       "      <th>4849</th>\n",
       "      <td>4850</td>\n",
       "      <td>04/09/2020</td>\n",
       "      <td>18/08/2020</td>\n",
       "      <td>F</td>\n",
       "      <td>67</td>\n",
       "      <td>NaN</td>\n",
       "      <td>To be provided</td>\n",
       "      <td>HK Resident</td>\n",
       "      <td>Local case</td>\n",
       "      <td>Confirmed</td>\n",
       "    </tr>\n",
       "    <tr>\n",
       "      <th>4850</th>\n",
       "      <td>4851</td>\n",
       "      <td>04/09/2020</td>\n",
       "      <td>02/09/2020</td>\n",
       "      <td>F</td>\n",
       "      <td>46</td>\n",
       "      <td>NaN</td>\n",
       "      <td>To be provided</td>\n",
       "      <td>HK Resident</td>\n",
       "      <td>Local case</td>\n",
       "      <td>Confirmed</td>\n",
       "    </tr>\n",
       "  </tbody>\n",
       "</table>\n",
       "<p>4851 rows × 10 columns</p>\n",
       "</div>"
      ],
      "text/plain": [
       "      Case no. Report date Date of onset Gender  Age  \\\n",
       "0            1  23/01/2020    21/01/2020      M   39   \n",
       "1            2  23/01/2020    18/01/2020      M   56   \n",
       "2            3  24/01/2020    20/01/2020      F   62   \n",
       "3            4  24/01/2020    23/01/2020      F   62   \n",
       "4            5  24/01/2020    23/01/2020      M   63   \n",
       "...        ...         ...           ...    ...  ...   \n",
       "4846      4847  04/09/2020    01/09/2020      F   46   \n",
       "4847      4848  04/09/2020    03/09/2020      F   18   \n",
       "4848      4849  04/09/2020  Asymptomatic      F   39   \n",
       "4849      4850  04/09/2020    18/08/2020      F   67   \n",
       "4850      4851  04/09/2020    02/09/2020      F   46   \n",
       "\n",
       "      Name of hospital admitted Hospitalised/Discharged/Deceased  \\\n",
       "0                           NaN                       Discharged   \n",
       "1                           NaN                       Discharged   \n",
       "2                           NaN                       Discharged   \n",
       "3                           NaN                       Discharged   \n",
       "4                           NaN                       Discharged   \n",
       "...                         ...                              ...   \n",
       "4846                        NaN                   To be provided   \n",
       "4847                        NaN                   To be provided   \n",
       "4848                        NaN                   To be provided   \n",
       "4849                        NaN                   To be provided   \n",
       "4850                        NaN                   To be provided   \n",
       "\n",
       "     HK/Non-HK resident Case classification* Confirmed/probable  \n",
       "0       Non-HK resident        Imported case          Confirmed  \n",
       "1           HK resident        Imported case          Confirmed  \n",
       "2       Non-HK resident        Imported case          Confirmed  \n",
       "3       Non-HK resident        Imported case          Confirmed  \n",
       "4       Non-HK resident        Imported case          Confirmed  \n",
       "...                 ...                  ...                ...  \n",
       "4846        HK Resident        Imported case          Confirmed  \n",
       "4847        HK Resident        Imported case          Confirmed  \n",
       "4848        HK Resident        Imported case          Confirmed  \n",
       "4849        HK Resident           Local case          Confirmed  \n",
       "4850        HK Resident           Local case          Confirmed  \n",
       "\n",
       "[4851 rows x 10 columns]"
      ]
     },
     "execution_count": 2,
     "metadata": {},
     "output_type": "execute_result"
    }
   ],
   "source": [
    "url=\"https://www.chp.gov.hk/files/misc/enhanced_sur_covid_19_eng.csv\"\n",
    "ss=requests.get(url).content\n",
    "covid =pd.read_csv(io.StringIO(ss.decode('utf-8')))\n",
    "covid.to_csv('enhanced_sur_covid_19_eng.csv') \n",
    "covid"
   ]
  },
  {
   "cell_type": "code",
   "execution_count": 3,
   "metadata": {},
   "outputs": [
    {
     "data": {
      "text/plain": [
       "Case no.                              int64\n",
       "Report date                          object\n",
       "Date of onset                        object\n",
       "Gender                               object\n",
       "Age                                   int64\n",
       "Name of hospital admitted           float64\n",
       "Hospitalised/Discharged/Deceased     object\n",
       "HK/Non-HK resident                   object\n",
       "Case classification*                 object\n",
       "Confirmed/probable                   object\n",
       "dtype: object"
      ]
     },
     "execution_count": 3,
     "metadata": {},
     "output_type": "execute_result"
    }
   ],
   "source": [
    "#check the datatypes of each column\n",
    "covid.dtypes"
   ]
  },
  {
   "cell_type": "code",
   "execution_count": 4,
   "metadata": {},
   "outputs": [
    {
     "data": {
      "text/plain": [
       "array(['23/01/2020', '24/01/2020', '26/01/2020', '29/01/2020',\n",
       "       '30/01/2020', '31/01/2020', '01/02/2020', '02/02/2020',\n",
       "       '04/02/2020', '05/02/2020', '06/02/2020', '07/02/2020',\n",
       "       '09/02/2020', '10/02/2020', '11/02/2020', '12/02/2020',\n",
       "       '13/02/2020', '14/02/2020', '16/02/2020', '17/02/2020',\n",
       "       '18/02/2020', '19/02/2020', '20/02/2020', '22/02/2020',\n",
       "       '23/02/2020', '24/02/2020', '25/02/2020', '26/02/2020',\n",
       "       '27/02/2020', '28/02/2020', '29/02/2020', '01/03/2020',\n",
       "       '02/03/2020', '04/03/2020', '06/03/2020', '07/03/2020',\n",
       "       '08/03/2020', '09/03/2020', '10/03/2020', '11/03/2020',\n",
       "       '12/03/2020', '13/03/2020', '14/03/2020', '15/03/2020',\n",
       "       '16/03/2020', '17/03/2020', '18/03/2020', '19/03/2020',\n",
       "       '20/03/2020', '21/03/2020', '22/03/2020', '23/03/2020',\n",
       "       '24/03/2020', '25/03/2020', '26/03/2020', '27/03/2020',\n",
       "       '28/03/2020', '29/03/2020', '30/03/2020', '31/03/2020',\n",
       "       '01/04/2020', '02/04/2020', '03/04/2020', '04/04/2020',\n",
       "       '05/04/2020', '06/04/2020', '07/04/2020', '08/04/2020',\n",
       "       '09/04/2020', '10/04/2020', '11/04/2020', '12/04/2020',\n",
       "       '13/04/2020', '14/04/2020', '15/04/2020', '16/04/2020',\n",
       "       '17/04/2020', '18/04/2020', '19/04/2020', '21/04/2020',\n",
       "       '22/04/2020', '23/04/2020', '25/04/2020', '01/05/2020',\n",
       "       '04/05/2020', '07/05/2020', '10/05/2020', '13/05/2020',\n",
       "       '14/05/2020', '15/05/2020', '17/05/2020', '21/05/2020',\n",
       "       '22/05/2020', '27/05/2020', '29/05/2020', '30/05/2020',\n",
       "       '31/05/2020', '01/06/2020', '02/06/2020', '04/06/2020',\n",
       "       '05/06/2020', '06/06/2020', '07/06/2020', '08/06/2020',\n",
       "       '12/06/2020', '13/06/2020', '15/06/2020', '17/06/2020',\n",
       "       '18/06/2020', '19/06/2020', '20/06/2020', '21/06/2020',\n",
       "       '22/06/2020', '23/06/2020', '24/06/2020', '25/06/2020',\n",
       "       '26/06/2020', '27/06/2020', '28/06/2020', '29/06/2020',\n",
       "       '30/06/2020', '01/07/2020', '02/07/2020', '03/07/2020',\n",
       "       '04/07/2020', '05/07/2020', '06/07/2020', '07/07/2020',\n",
       "       '08/07/2020', '09/07/2020', '10/07/2020', '11/07/2020',\n",
       "       '12/07/2020', '13/07/2020', '14/07/2020', '15/07/2020',\n",
       "       '16/07/2020', '17/07/2020', '18/07/2020', '19/07/2020',\n",
       "       '21/07/2020', '20/07/2020', '22/07/2020', '23/07/2020',\n",
       "       '24/07/2020', '25/07/2020', '26/07/2020', '27/07/2020',\n",
       "       '28/07/2020', '29/07/2020', '01/08/2020', '30/07/2020',\n",
       "       '31/07/2020', '02/08/2020', '03/08/2020', '04/08/2020',\n",
       "       '05/08/2020', '06/08/2020', '07/08/2020', '08/08/2020',\n",
       "       '09/08/2020', '10/08/2020', '11/08/2020', '12/08/2020',\n",
       "       '13/08/2020', '14/08/2020', '15/08/2020', '16/08/2020',\n",
       "       '17/08/2020', '18/08/2020', '19/08/2020', '20/08/2020',\n",
       "       '21/08/2020', '22/08/2020', '23/08/2020', '24/08/2020',\n",
       "       '25/08/2020', '26/08/2020', '27/08/2020', '28/08/2020',\n",
       "       '29/08/2020', '30/08/2020', '31/08/2020', '01/09/2020',\n",
       "       '02/09/2020', '03/09/2020', '04/09/2020'], dtype=object)"
      ]
     },
     "execution_count": 4,
     "metadata": {},
     "output_type": "execute_result"
    }
   ],
   "source": [
    "#have a quick look at the date\n",
    "covid['Report date'].unique()"
   ]
  },
  {
   "cell_type": "markdown",
   "metadata": {},
   "source": [
    "First calculate the number of cases for each date. Then, we sort the dataframe by dates."
   ]
  },
  {
   "cell_type": "code",
   "execution_count": 5,
   "metadata": {},
   "outputs": [
    {
     "data": {
      "text/html": [
       "<div>\n",
       "<style scoped>\n",
       "    .dataframe tbody tr th:only-of-type {\n",
       "        vertical-align: middle;\n",
       "    }\n",
       "\n",
       "    .dataframe tbody tr th {\n",
       "        vertical-align: top;\n",
       "    }\n",
       "\n",
       "    .dataframe thead th {\n",
       "        text-align: right;\n",
       "    }\n",
       "</style>\n",
       "<table border=\"1\" class=\"dataframe\">\n",
       "  <thead>\n",
       "    <tr style=\"text-align: right;\">\n",
       "      <th></th>\n",
       "      <th>Report date</th>\n",
       "      <th>Number_of_Cases</th>\n",
       "    </tr>\n",
       "  </thead>\n",
       "  <tbody>\n",
       "    <tr>\n",
       "      <th>133</th>\n",
       "      <td>2020-01-23</td>\n",
       "      <td>2</td>\n",
       "    </tr>\n",
       "    <tr>\n",
       "      <th>140</th>\n",
       "      <td>2020-01-24</td>\n",
       "      <td>3</td>\n",
       "    </tr>\n",
       "    <tr>\n",
       "      <th>152</th>\n",
       "      <td>2020-01-26</td>\n",
       "      <td>3</td>\n",
       "    </tr>\n",
       "    <tr>\n",
       "      <th>169</th>\n",
       "      <td>2020-01-29</td>\n",
       "      <td>2</td>\n",
       "    </tr>\n",
       "    <tr>\n",
       "      <th>176</th>\n",
       "      <td>2020-01-30</td>\n",
       "      <td>2</td>\n",
       "    </tr>\n",
       "    <tr>\n",
       "      <th>...</th>\n",
       "      <td>...</td>\n",
       "      <td>...</td>\n",
       "    </tr>\n",
       "    <tr>\n",
       "      <th>186</th>\n",
       "      <td>2020-08-31</td>\n",
       "      <td>9</td>\n",
       "    </tr>\n",
       "    <tr>\n",
       "      <th>7</th>\n",
       "      <td>2020-09-01</td>\n",
       "      <td>12</td>\n",
       "    </tr>\n",
       "    <tr>\n",
       "      <th>14</th>\n",
       "      <td>2020-09-02</td>\n",
       "      <td>8</td>\n",
       "    </tr>\n",
       "    <tr>\n",
       "      <th>18</th>\n",
       "      <td>2020-09-03</td>\n",
       "      <td>8</td>\n",
       "    </tr>\n",
       "    <tr>\n",
       "      <th>26</th>\n",
       "      <td>2020-09-04</td>\n",
       "      <td>12</td>\n",
       "    </tr>\n",
       "  </tbody>\n",
       "</table>\n",
       "<p>187 rows × 2 columns</p>\n",
       "</div>"
      ],
      "text/plain": [
       "    Report date  Number_of_Cases\n",
       "133  2020-01-23                2\n",
       "140  2020-01-24                3\n",
       "152  2020-01-26                3\n",
       "169  2020-01-29                2\n",
       "176  2020-01-30                2\n",
       "..          ...              ...\n",
       "186  2020-08-31                9\n",
       "7    2020-09-01               12\n",
       "14   2020-09-02                8\n",
       "18   2020-09-03                8\n",
       "26   2020-09-04               12\n",
       "\n",
       "[187 rows x 2 columns]"
      ]
     },
     "execution_count": 5,
     "metadata": {},
     "output_type": "execute_result"
    }
   ],
   "source": [
    "grouped_covid = covid.groupby('Report date')\n",
    "grouped_covid = grouped_covid.agg({'Case no.': \"nunique\"})\n",
    "grouped_covid = grouped_covid.reset_index()\n",
    "grouped_covid = grouped_covid.rename(columns={'Case no.': 'Number_of_Cases'})\n",
    "grouped_covid['Report date'] = pd.to_datetime(grouped_covid['Report date'], format='%d/%m/%Y')\n",
    "grouped_covid = grouped_covid.sort_values(by=['Report date'])\n",
    "grouped_covid"
   ]
  },
  {
   "cell_type": "markdown",
   "metadata": {},
   "source": [
    "now we can plot the result using this dataset:"
   ]
  },
  {
   "cell_type": "code",
   "execution_count": 6,
   "metadata": {},
   "outputs": [
    {
     "data": {
      "text/plain": [
       "Text(0.5, 0, 'Date')"
      ]
     },
     "execution_count": 6,
     "metadata": {},
     "output_type": "execute_result"
    },
    {
     "data": {
      "image/png": "[encoded data removed]",
      "text/plain": [
       "<Figure size 432x288 with 1 Axes>"
      ]
     },
     "metadata": {
      "needs_background": "light"
     },
     "output_type": "display_data"
    }
   ],
   "source": [
    "#plot daily new cases\n",
    "import matplotlib.dates as mdates\n",
    "fig = plt.figure()\n",
    "ax = plt.axes()\n",
    "ax.fmt_xdata = mdates.DateFormatter('%m') \n",
    "ax.plot(grouped_covid['Report date'], grouped_covid['Number_of_Cases']);\n",
    "\n",
    "ax.set_ylabel('Daily new cases')\n",
    "ax.set_xlabel('Date')\n",
    "\n"
   ]
  },
  {
   "cell_type": "markdown",
   "metadata": {},
   "source": [
    "Next we gather the information of cases based on gender. The number of cases are grouped based on gender."
   ]
  },
  {
   "cell_type": "code",
   "execution_count": 7,
   "metadata": {},
   "outputs": [
    {
     "data": {
      "text/html": [
       "<div>\n",
       "<style scoped>\n",
       "    .dataframe tbody tr th:only-of-type {\n",
       "        vertical-align: middle;\n",
       "    }\n",
       "\n",
       "    .dataframe tbody tr th {\n",
       "        vertical-align: top;\n",
       "    }\n",
       "\n",
       "    .dataframe thead th {\n",
       "        text-align: right;\n",
       "    }\n",
       "</style>\n",
       "<table border=\"1\" class=\"dataframe\">\n",
       "  <thead>\n",
       "    <tr style=\"text-align: right;\">\n",
       "      <th></th>\n",
       "      <th>Gender</th>\n",
       "      <th>Number_of_Cases</th>\n",
       "    </tr>\n",
       "  </thead>\n",
       "  <tbody>\n",
       "    <tr>\n",
       "      <th>0</th>\n",
       "      <td>F</td>\n",
       "      <td>2429</td>\n",
       "    </tr>\n",
       "    <tr>\n",
       "      <th>1</th>\n",
       "      <td>M</td>\n",
       "      <td>2422</td>\n",
       "    </tr>\n",
       "  </tbody>\n",
       "</table>\n",
       "</div>"
      ],
      "text/plain": [
       "  Gender  Number_of_Cases\n",
       "0      F             2429\n",
       "1      M             2422"
      ]
     },
     "execution_count": 7,
     "metadata": {},
     "output_type": "execute_result"
    }
   ],
   "source": [
    "grouped_covid2 = covid.groupby('Gender')\n",
    "grouped_covid2 = grouped_covid2.agg({'Case no.': \"nunique\"})\n",
    "grouped_covid2 = grouped_covid2.reset_index()\n",
    "grouped_covid2 = grouped_covid2.rename(columns={'Case no.': 'Number_of_Cases'})\n",
    "grouped_covid2"
   ]
  },
  {
   "cell_type": "markdown",
   "metadata": {},
   "source": [
    "We plot the gender pie chart:"
   ]
  },
  {
   "cell_type": "code",
   "execution_count": 8,
   "metadata": {},
   "outputs": [
    {
     "data": {
      "image/png": "[encoded data removed]",
      "text/plain": [
       "<Figure size 432x288 with 1 Axes>"
      ]
     },
     "metadata": {},
     "output_type": "display_data"
    }
   ],
   "source": [
    "#plot gender pie chart\n",
    "\n",
    "labels = grouped_covid2['Gender']\n",
    "sizes = grouped_covid2['Number_of_Cases']\n",
    "\n",
    "fig1, ax1 = plt.subplots()\n",
    "ax1.pie(sizes, labels=labels,\n",
    "        shadow=True, startangle=90,textprops={'fontsize': 20},labeldistance=0.4)\n",
    "ax1.axis('equal')  # Equal aspect ratio ensures that pie is drawn as a circle.\n",
    "#ax1.set_title('Gender distribution of confirmed cases in Hong Kong')\n",
    "\n",
    "plt.show()"
   ]
  },
  {
   "cell_type": "markdown",
   "metadata": {},
   "source": [
    "Now we do Age plot. there are 5 categories, and we group the numbers based on the age category."
   ]
  },
  {
   "cell_type": "code",
   "execution_count": 9,
   "metadata": {},
   "outputs": [
    {
     "name": "stderr",
     "output_type": "stream",
     "text": [
      "<ipython-input-9-57c720ae8afb>:5: SettingWithCopyWarning: \n",
      "A value is trying to be set on a copy of a slice from a DataFrame.\n",
      "Try using .loc[row_indexer,col_indexer] = value instead\n",
      "\n",
      "See the caveats in the documentation: https://pandas.pydata.org/pandas-docs/stable/user_guide/indexing.html#returning-a-view-versus-a-copy\n",
      "  covid_copy['Age_Range'] = pd.cut(np.array(covid_copy['Age']), bins, labels=names)\n"
     ]
    },
    {
     "data": {
      "text/html": [
       "<div>\n",
       "<style scoped>\n",
       "    .dataframe tbody tr th:only-of-type {\n",
       "        vertical-align: middle;\n",
       "    }\n",
       "\n",
       "    .dataframe tbody tr th {\n",
       "        vertical-align: top;\n",
       "    }\n",
       "\n",
       "    .dataframe thead th {\n",
       "        text-align: right;\n",
       "    }\n",
       "</style>\n",
       "<table border=\"1\" class=\"dataframe\">\n",
       "  <thead>\n",
       "    <tr style=\"text-align: right;\">\n",
       "      <th></th>\n",
       "      <th>Age_Range</th>\n",
       "      <th>Number_of_Cases</th>\n",
       "    </tr>\n",
       "  </thead>\n",
       "  <tbody>\n",
       "    <tr>\n",
       "      <th>0</th>\n",
       "      <td>&lt;2</td>\n",
       "      <td>58</td>\n",
       "    </tr>\n",
       "    <tr>\n",
       "      <th>1</th>\n",
       "      <td>2-18</td>\n",
       "      <td>401</td>\n",
       "    </tr>\n",
       "    <tr>\n",
       "      <th>2</th>\n",
       "      <td>18-35</td>\n",
       "      <td>1301</td>\n",
       "    </tr>\n",
       "    <tr>\n",
       "      <th>3</th>\n",
       "      <td>35-65</td>\n",
       "      <td>2341</td>\n",
       "    </tr>\n",
       "    <tr>\n",
       "      <th>4</th>\n",
       "      <td>65+</td>\n",
       "      <td>750</td>\n",
       "    </tr>\n",
       "  </tbody>\n",
       "</table>\n",
       "</div>"
      ],
      "text/plain": [
       "  Age_Range  Number_of_Cases\n",
       "0        <2               58\n",
       "1      2-18              401\n",
       "2     18-35             1301\n",
       "3     35-65             2341\n",
       "4       65+              750"
      ]
     },
     "execution_count": 9,
     "metadata": {},
     "output_type": "execute_result"
    }
   ],
   "source": [
    "covid_copy = covid[['Gender','Age']]\n",
    "bins = [-1, 2, 18, 35, 65, np.inf]\n",
    "names = ['<2', '2-18', '18-35', '35-65', '65+']\n",
    "covid_copy\n",
    "covid_copy['Age_Range'] = pd.cut(np.array(covid_copy['Age']), bins, labels=names)\n",
    "grouped_covid3 = covid_copy.groupby('Age_Range')\n",
    "grouped_covid3 = grouped_covid3.agg({'Gender': \"count\"})\n",
    "grouped_covid3 = grouped_covid3.rename(columns={'Gender': 'Number_of_Cases'})\n",
    "grouped_covid3 = grouped_covid3.reset_index()\n",
    "grouped_covid3"
   ]
  },
  {
   "cell_type": "code",
   "execution_count": 10,
   "metadata": {},
   "outputs": [
    {
     "data": {
      "image/png": "[encoded data removed]",
      "text/plain": [
       "<Figure size 432x288 with 1 Axes>"
      ]
     },
     "metadata": {},
     "output_type": "display_data"
    }
   ],
   "source": [
    "#plot age pie chart\n",
    "\n",
    "labels = grouped_covid3['Age_Range']\n",
    "sizes = grouped_covid3['Number_of_Cases']\n",
    "fig2, ax2 = plt.subplots()\n",
    "ax2.pie(sizes,  autopct='%1.1f%%',pctdistance=1.2, startangle=90)\n",
    "centre_circle = plt.Circle((0,0),0.70,fc='white')\n",
    "fig = plt.gcf()\n",
    "fig.gca().add_artist(centre_circle)\n",
    "ax2.axis('equal')  # Equal aspect ratio ensures that pie is drawn as a circle.\n",
    "#ax2.set_title('Case classification plot of covid-19 cases in Hong Kong')\n",
    "plt.legend(title='Age',labels =labels,loc=1,fontsize='small')\n",
    "\n",
    "plt.show()"
   ]
  },
  {
   "cell_type": "markdown",
   "metadata": {},
   "source": [
    "Next, we have a quick look on the case classification data"
   ]
  },
  {
   "cell_type": "code",
   "execution_count": 11,
   "metadata": {},
   "outputs": [
    {
     "data": {
      "text/html": [
       "<div>\n",
       "<style scoped>\n",
       "    .dataframe tbody tr th:only-of-type {\n",
       "        vertical-align: middle;\n",
       "    }\n",
       "\n",
       "    .dataframe tbody tr th {\n",
       "        vertical-align: top;\n",
       "    }\n",
       "\n",
       "    .dataframe thead th {\n",
       "        text-align: right;\n",
       "    }\n",
       "</style>\n",
       "<table border=\"1\" class=\"dataframe\">\n",
       "  <thead>\n",
       "    <tr style=\"text-align: right;\">\n",
       "      <th></th>\n",
       "      <th>Case classification*</th>\n",
       "      <th>Number_of_Cases</th>\n",
       "    </tr>\n",
       "  </thead>\n",
       "  <tbody>\n",
       "    <tr>\n",
       "      <th>2</th>\n",
       "      <td>Epidemiologically linked with possibly local case</td>\n",
       "      <td>62</td>\n",
       "    </tr>\n",
       "    <tr>\n",
       "      <th>1</th>\n",
       "      <td>Epidemiologically linked with local case</td>\n",
       "      <td>2169</td>\n",
       "    </tr>\n",
       "    <tr>\n",
       "      <th>0</th>\n",
       "      <td>Epidemiologically linked with imported case</td>\n",
       "      <td>31</td>\n",
       "    </tr>\n",
       "    <tr>\n",
       "      <th>3</th>\n",
       "      <td>Imported case</td>\n",
       "      <td>1161</td>\n",
       "    </tr>\n",
       "    <tr>\n",
       "      <th>5</th>\n",
       "      <td>Possibly local case</td>\n",
       "      <td>103</td>\n",
       "    </tr>\n",
       "    <tr>\n",
       "      <th>4</th>\n",
       "      <td>Local case</td>\n",
       "      <td>1325</td>\n",
       "    </tr>\n",
       "  </tbody>\n",
       "</table>\n",
       "</div>"
      ],
      "text/plain": [
       "                                Case classification*  Number_of_Cases\n",
       "2  Epidemiologically linked with possibly local case               62\n",
       "1           Epidemiologically linked with local case             2169\n",
       "0        Epidemiologically linked with imported case               31\n",
       "3                                      Imported case             1161\n",
       "5                                Possibly local case              103\n",
       "4                                         Local case             1325"
      ]
     },
     "execution_count": 11,
     "metadata": {},
     "output_type": "execute_result"
    }
   ],
   "source": [
    "grouped_covid4 = covid.groupby('Case classification*')\n",
    "grouped_covid4 = grouped_covid4.agg({'Gender': \"count\"})\n",
    "grouped_covid4 = grouped_covid4.rename(columns={'Gender': 'Number_of_Cases'})\n",
    "grouped_covid4 = grouped_covid4.reset_index()\n",
    "grouped_covid4 = grouped_covid4.reindex([2, 1, 0, 3,5,4]) # reorder for easier plotting\n",
    "grouped_covid4"
   ]
  },
  {
   "cell_type": "code",
   "execution_count": 36,
   "metadata": {},
   "outputs": [
    {
     "data": {
      "text/plain": [
       "<Figure size 108x93.6 with 0 Axes>"
      ]
     },
     "metadata": {},
     "output_type": "display_data"
    },
    {
     "data": {
      "image/png": "[encoded data removed]",
      "text/plain": [
       "<Figure size 1440x720 with 1 Axes>"
      ]
     },
     "metadata": {},
     "output_type": "display_data"
    }
   ],
   "source": [
    "#plot case classification pie chart\n",
    "import pylab, numpy\n",
    "labels = grouped_covid4['Case classification*']\n",
    "sizes = grouped_covid4['Number_of_Cases']\n",
    "figLegend = pylab.figure(figsize = (1.5,1.3))\n",
    "\n",
    "fig2, ax2 = plt.subplots(figsize=(20,10))\n",
    "ax2.pie(sizes, autopct='%1.1f%%',pctdistance=0.55, startangle=90,textprops={'fontsize': 16})\n",
    "centre_circle = plt.Circle((0,0),0.70,fc='white')\n",
    "fig = plt.gcf()\n",
    "fig.gca().add_artist(centre_circle)\n",
    "ax2.axis('equal') \n",
    "#ax2.set_title('Case classification plot of covid-19 cases in Hong Kong')\n",
    "#plt.legend(labels =labels,loc='center',fontsize=60,framealpha=1)\n",
    "plt.savefig('Case Classification_legend.png')\n",
    "\n",
    "\n",
    "pylab.figlegend(*ax2.get_legend_handles_labels(),loc=1,fontsize=20)\n",
    "figLegend.savefig(\"legend.png\")\n"
   ]
  },
  {
   "cell_type": "code",
   "execution_count": 16,
   "metadata": {},
   "outputs": [
    {
     "name": "stderr",
     "output_type": "stream",
     "text": [
      "<ipython-input-16-a356620fbeed>:8: UserWarning: Legend does not support [<matplotlib.patches.Wedge object at 0x7f9aa459f7f0>, <matplotlib.patches.Wedge object at 0x7f9aa45aaaf0>, <matplotlib.patches.Wedge object at 0x7f9aa45aadc0>, <matplotlib.patches.Wedge object at 0x7f9aa440a760>, <matplotlib.patches.Wedge object at 0x7f9aa440ad60>, <matplotlib.patches.Wedge object at 0x7f9aa45aef40>] instances.\n",
      "A proxy artist may be used instead.\n",
      "See: http://matplotlib.org/users/legend_guide.html#creating-artists-specifically-for-adding-to-the-legend-aka-proxy-artists\n",
      "  figlegend.legend(lines,labels, 'center')\n",
      "<ipython-input-16-a356620fbeed>:8: UserWarning: Legend does not support [Text(-0.04415565020169708, 1.0991134056844478, ''), Text(-1.095952702055754, 0.09427446556036076, ''), Text(-0.25275313673395433, -1.0705680043188042, ''), Text(0.565656209108792, -0.9434156311492146, ''), Text(1.0753513050368464, -0.23155900059283235, ''), Text(0.8322568502660134, 0.7192694454690083, '')] instances.\n",
      "A proxy artist may be used instead.\n",
      "See: http://matplotlib.org/users/legend_guide.html#creating-artists-specifically-for-adding-to-the-legend-aka-proxy-artists\n",
      "  figlegend.legend(lines,labels, 'center')\n",
      "<ipython-input-16-a356620fbeed>:8: UserWarning: Legend does not support [Text(-0.02207782510084854, 0.5495567028422239, '1.3%'), Text(-0.547976351027877, 0.04713723278018038, '44.7%'), Text(-0.12637656836697717, -0.5352840021594021, '0.6%'), Text(0.282828104554396, -0.4717078155746073, '23.9%'), Text(0.5376756525184232, -0.11577950029641618, '2.1%'), Text(0.4161284251330067, 0.35963472273450414, '27.3%')] instances.\n",
      "A proxy artist may be used instead.\n",
      "See: http://matplotlib.org/users/legend_guide.html#creating-artists-specifically-for-adding-to-the-legend-aka-proxy-artists\n",
      "  figlegend.legend(lines,labels, 'center')\n",
      "<ipython-input-16-a356620fbeed>:9: UserWarning: Matplotlib is currently using module://ipykernel.pylab.backend_inline, which is a non-GUI backend, so cannot show the figure.\n",
      "  fig.show()\n",
      "<ipython-input-16-a356620fbeed>:10: UserWarning: Matplotlib is currently using module://ipykernel.pylab.backend_inline, which is a non-GUI backend, so cannot show the figure.\n",
      "  figlegend.show()\n"
     ]
    },
    {
     "data": {
      "image/png": "[encoded data removed]",
      "text/plain": [
       "<Figure size 432x288 with 1 Axes>"
      ]
     },
     "metadata": {},
     "output_type": "display_data"
    },
    {
     "data": {
      "text/plain": [
       "<Figure size 216x144 with 0 Axes>"
      ]
     },
     "metadata": {},
     "output_type": "display_data"
    }
   ],
   "source": [
    "import pylab\n",
    "labels = grouped_covid4['Case classification*']\n",
    "sizes = grouped_covid4['Number_of_Cases']\n",
    "fig = pylab.figure()\n",
    "figlegend = pylab.figure(figsize=(3,2))\n",
    "ax = fig.add_subplot(111)\n",
    "lines = ax.pie(sizes, autopct='%1.1f%%',pctdistance=0.55, startangle=90,textprops={'fontsize': 16})\n",
    "figlegend.legend(lines,labels, 'center')\n",
    "fig.show()\n",
    "figlegend.show()\n",
    "figlegend.savefig('legend.png')"
   ]
  },
  {
   "cell_type": "markdown",
   "metadata": {},
   "source": [
    "Finally, we do a quick search of the number on Asymptomatic cases."
   ]
  },
  {
   "cell_type": "code",
   "execution_count": 98,
   "metadata": {},
   "outputs": [
    {
     "data": {
      "text/plain": [
       "array(['21/01/2020', '18/01/2020', '20/01/2020', '23/01/2020',\n",
       "       '25/01/2020', '28/01/2020', '22/01/2020', '29/01/2020',\n",
       "       '01/02/2020', '30/01/2020', '04/02/2020', '26/01/2020',\n",
       "       '03/02/2020', '02/02/2020', '07/02/2020', '08/02/2020',\n",
       "       '05/02/2020', '31/01/2020', '12/02/2020', '11/02/2020',\n",
       "       '14/02/2020', '10/02/2020', '18/02/2020', '13/02/2020',\n",
       "       '20/02/2020', '19/02/2020', '24/02/2020', 'Asymptomatic',\n",
       "       '17/02/2020', '25/02/2020', '16/02/2020', '29/02/2020',\n",
       "       '15/02/2020', '28/02/2020', '23/02/2020', '04/03/2020',\n",
       "       '06/03/2020', '07/03/2020', '09/03/2020', '08/03/2020',\n",
       "       '10/03/2020', '03/03/2020', '12/03/2020', '02/03/2020',\n",
       "       '11/03/2020', '13/03/2020', '14/03/2020', '15/03/2020',\n",
       "       '05/03/2020', '16/03/2020', '17/03/2020', '18/03/2020',\n",
       "       '19/03/2020', '20/03/2020', '21/03/2020', '22/03/2020',\n",
       "       '23/03/2020', '24/03/2020', '25/03/2020', '26/03/2020', 'January',\n",
       "       '27/03/2020', '28/03/2020', '29/03/2020', '30/03/2020',\n",
       "       '31/03/2020', '01/04/2020', '02/04/2020', '03/04/2020',\n",
       "       '04/04/2020', '05/04/2020', '06/04/2020', '07/04/2020',\n",
       "       '08/04/2020', '09/04/2020', '13/04/2020', '11/04/2020',\n",
       "       '16/04/2020', '15/04/2020', '08/05/2020', '11/05/2020',\n",
       "       '12/05/2020', '15/05/2020', '20/05/2020', '16/05/2020',\n",
       "       '10/04/2020', '22/05/2020', '26/05/2020', '27/04/2020',\n",
       "       '25/04/2020', '03/06/2020', '29/05/2020', '01/06/2020',\n",
       "       '30/05/2020', '04/06/2020', 'Mid-March', '06/06/2020',\n",
       "       '31/05/2020', '08/06/2020', '10/06/2020', '12/06/2020',\n",
       "       '19/06/2020', '20/06/2020', '21/06/2020', '18/06/2020',\n",
       "       '05/05/2020', '25/05/2020', '23/06/2020', '13/06/2020',\n",
       "       '22/06/2020', '17/06/2020', '24/06/2020', '27/06/2020',\n",
       "       '25/06/2020', '29/06/2020', '30/06/2020', '26/06/2020',\n",
       "       '01/07/2020', '02/07/2020', '04/07/2020', '03/07/2020',\n",
       "       '06/07/2020', '05/07/2020', '07/07/2020', '09/07/2020',\n",
       "       '08/07/2020', 'Unknown', '10/07/2020', '11/07/2020', '12/07/2020',\n",
       "       '13/07/2020', '14/07/2020', '15/07/2020', '16/07/2020',\n",
       "       '17/07/2020', 'Pending', '18/07/2020', '19/07/2020', '21/07/2020',\n",
       "       '20/07/2020', '22/07/2020', '23/07/2020', '24/07/2020',\n",
       "       '26/07/2020', '25/07/2020', '27/07/2020', '28/07/2020',\n",
       "       '29/07/2020', '30/07/2020', '31/07/2020', '01/08/2020',\n",
       "       '02/08/2020', '03/08/2020', '04/08/2020', '05/08/2020',\n",
       "       '06/08/2020', '07/08/2020', '08/08/2020', '09/08/2020',\n",
       "       '10/08/2020', '11/08/2020', '12/08/2020', 'Mid-July', '13/08/2020',\n",
       "       '15/08/2020', '14/08/2020', '16/08/2020', '17/08/2020',\n",
       "       '18/08/2020', '19/08/2020', '20/08/2020', '21/08/2020',\n",
       "       '22/08/2020', '23/08/2020', '24/08/2020', '25/08/2020',\n",
       "       '27/08/2020', '26/08/2020', '28/08/2020', '29/08/2020',\n",
       "       '30/08/2020', '01/09/2020'], dtype=object)"
      ]
     },
     "execution_count": 98,
     "metadata": {},
     "output_type": "execute_result"
    }
   ],
   "source": [
    "covid['Date of onset'].unique()"
   ]
  },
  {
   "cell_type": "code",
   "execution_count": 99,
   "metadata": {},
   "outputs": [
    {
     "name": "stdout",
     "output_type": "stream",
     "text": [
      "1120\n",
      "45\n",
      "25\n"
     ]
    }
   ],
   "source": [
    "grouped_covid5 = covid.groupby('Date of onset')\n",
    "grouped_covid5 = grouped_covid5.agg({'Gender': \"count\"})\n",
    "grouped_covid5 = grouped_covid5.rename(columns={'Gender': 'Number_of_Cases'})\n",
    "print(grouped_covid5['Number_of_Cases']['Asymptomatic'])\n",
    "print(grouped_covid5['Number_of_Cases']['Pending'])\n",
    "print(grouped_covid5['Number_of_Cases']['Unknown'])"
   ]
  },
  {
   "cell_type": "code",
   "execution_count": 43,
   "metadata": {},
   "outputs": [
    {
     "name": "stdout",
     "output_type": "stream",
     "text": [
      "[39 70 80 76 75 78 72 55 92 74 91 95 83 87 90 94 82 89 86 85 88 77 64 63\n",
      " 71 84 60 79 81 66 93 69 65 98 59]\n"
     ]
    }
   ],
   "source": [
    "covid_deceased = covid.loc[covid['Hospitalised/Discharged/Deceased'] == 'Deceased']\n",
    "print(covid_deceased.Age.unique())\n"
   ]
  },
  {
   "cell_type": "code",
   "execution_count": 44,
   "metadata": {},
   "outputs": [
    {
     "name": "stderr",
     "output_type": "stream",
     "text": [
      "<ipython-input-44-198308f286df>:5: SettingWithCopyWarning: \n",
      "A value is trying to be set on a copy of a slice from a DataFrame.\n",
      "Try using .loc[row_indexer,col_indexer] = value instead\n",
      "\n",
      "See the caveats in the documentation: https://pandas.pydata.org/pandas-docs/stable/user_guide/indexing.html#returning-a-view-versus-a-copy\n",
      "  covid_copy['Age_Range'] = pd.cut(np.array(covid_copy['Age']), bins, labels=names)\n"
     ]
    },
    {
     "data": {
      "text/html": [
       "<div>\n",
       "<style scoped>\n",
       "    .dataframe tbody tr th:only-of-type {\n",
       "        vertical-align: middle;\n",
       "    }\n",
       "\n",
       "    .dataframe tbody tr th {\n",
       "        vertical-align: top;\n",
       "    }\n",
       "\n",
       "    .dataframe thead th {\n",
       "        text-align: right;\n",
       "    }\n",
       "</style>\n",
       "<table border=\"1\" class=\"dataframe\">\n",
       "  <thead>\n",
       "    <tr style=\"text-align: right;\">\n",
       "      <th></th>\n",
       "      <th>Age_Range</th>\n",
       "      <th>Number_of_Cases</th>\n",
       "    </tr>\n",
       "  </thead>\n",
       "  <tbody>\n",
       "    <tr>\n",
       "      <th>0</th>\n",
       "      <td>&lt;2</td>\n",
       "      <td>0</td>\n",
       "    </tr>\n",
       "    <tr>\n",
       "      <th>1</th>\n",
       "      <td>2-18</td>\n",
       "      <td>0</td>\n",
       "    </tr>\n",
       "    <tr>\n",
       "      <th>2</th>\n",
       "      <td>18-35</td>\n",
       "      <td>0</td>\n",
       "    </tr>\n",
       "    <tr>\n",
       "      <th>3</th>\n",
       "      <td>35-65</td>\n",
       "      <td>9</td>\n",
       "    </tr>\n",
       "    <tr>\n",
       "      <th>4</th>\n",
       "      <td>65+</td>\n",
       "      <td>85</td>\n",
       "    </tr>\n",
       "  </tbody>\n",
       "</table>\n",
       "</div>"
      ],
      "text/plain": [
       "  Age_Range  Number_of_Cases\n",
       "0        <2                0\n",
       "1      2-18                0\n",
       "2     18-35                0\n",
       "3     35-65                9\n",
       "4       65+               85"
      ]
     },
     "execution_count": 44,
     "metadata": {},
     "output_type": "execute_result"
    }
   ],
   "source": [
    "covid_copy = covid_deceased[['Gender','Age']]\n",
    "bins = [-1, 2, 18, 35, 65, np.inf]\n",
    "names = ['<2', '2-18', '18-35', '35-65', '65+']\n",
    "covid_copy\n",
    "covid_copy['Age_Range'] = pd.cut(np.array(covid_copy['Age']), bins, labels=names)\n",
    "grouped_covid6 = covid_copy.groupby('Age_Range')\n",
    "grouped_covid6 = grouped_covid6.agg({'Gender': \"count\"})\n",
    "grouped_covid6 = grouped_covid6.rename(columns={'Gender': 'Number_of_Cases'})\n",
    "grouped_covid6 = grouped_covid6.reset_index()\n",
    "grouped_covid6"
   ]
  },
  {
   "cell_type": "code",
   "execution_count": 55,
   "metadata": {},
   "outputs": [
    {
     "data": {
      "image/png": "[encoded data removed]",
      "text/plain": [
       "<Figure size 1440x720 with 1 Axes>"
      ]
     },
     "metadata": {},
     "output_type": "display_data"
    }
   ],
   "source": [
    "#plot age pie chart\n",
    "\n",
    "labels = grouped_covid6['Age_Range']\n",
    "sizes = grouped_covid6['Number_of_Cases']\n",
    "fig2, ax2 = plt.subplots(figsize=(20,10))\n",
    "ax2.pie(sizes,  autopct='%1.1f%%',pctdistance=1.1, startangle=90,textprops={'fontsize': 20})\n",
    "centre_circle = plt.Circle((0,0),0.70,fc='white')\n",
    "fig = plt.gcf()\n",
    "fig.gca().add_artist(centre_circle)\n",
    "ax2.axis('equal')  # Equal aspect ratio ensures that pie is drawn as a circle.\n",
    "#ax2.set_title('Case classification plot of covid-19 cases in Hong Kong')\n",
    "plt.legend(title='Age',title_fontsize=20, labels =labels,loc=1,fontsize=20)\n",
    "\n",
    "plt.show()"
   ]
  }
 ],
 "metadata": {
  "kernelspec": {
   "display_name": "Python 3",
   "language": "python",
   "name": "python3"
  },
  "language_info": {
   "codemirror_mode": {
    "name": "ipython",
    "version": 3
   },
   "file_extension": ".py",
   "mimetype": "text/x-python",
   "name": "python",
   "nbconvert_exporter": "python",
   "pygments_lexer": "ipython3",
   "version": "3.8.3"
  }
 },
 "nbformat": 4,
 "nbformat_minor": 4
}
